{
 "cells": [
  {
   "cell_type": "code",
   "execution_count": 22,
   "id": "84417b77",
   "metadata": {},
   "outputs": [
    {
     "data": {
      "text/plain": [
       "<Popen: returncode: None args: ['c:\\\\Users\\\\ameer\\\\miniforge3\\\\envs\\\\ase\\\\py...>"
      ]
     },
     "execution_count": 22,
     "metadata": {},
     "output_type": "execute_result"
    }
   ],
   "source": [
    "from ase.io import read, write\n",
    "from ase.visualize import view\n",
    "\n",
    "atoms = read('TiN.cif')\n",
    "view(atoms) "
   ]
  },
  {
   "cell_type": "code",
   "execution_count": 15,
   "id": "5a7ec1fa",
   "metadata": {},
   "outputs": [
    {
     "data": {
      "text/plain": [
       "<Popen: returncode: None args: ['c:\\\\Users\\\\ameer\\\\miniforge3\\\\envs\\\\ase\\\\py...>"
      ]
     },
     "execution_count": 15,
     "metadata": {},
     "output_type": "execute_result"
    }
   ],
   "source": [
    "atoms = read('ZrN.cif')\n",
    "view(atoms)"
   ]
  },
  {
   "cell_type": "code",
   "execution_count": 19,
   "id": "1440195a",
   "metadata": {},
   "outputs": [],
   "source": [
    "atoms = read('ZrN.poscar')\n",
    "view(atoms)\n",
    "write('ZrN.cif', atoms)"
   ]
  },
  {
   "cell_type": "code",
   "execution_count": 1,
   "id": "1808aeb8",
   "metadata": {},
   "outputs": [
    {
     "ename": "BadConfiguration",
     "evalue": "No configuration of 'espresso'. See 'https://wiki.fysik.dtu.dk/ase/ase/calculators/calculators.html#calculator-configuration'",
     "output_type": "error",
     "traceback": [
      "\u001b[1;31m---------------------------------------------------------------------------\u001b[0m",
      "\u001b[1;31mBadConfiguration\u001b[0m                          Traceback (most recent call last)",
      "Cell \u001b[1;32mIn[1], line 61\u001b[0m\n\u001b[0;32m     58\u001b[0m kpts \u001b[38;5;241m=\u001b[39m (\u001b[38;5;241m5\u001b[39m, \u001b[38;5;241m5\u001b[39m, \u001b[38;5;241m5\u001b[39m)\n\u001b[0;32m     60\u001b[0m \u001b[38;5;66;03m# Initialize and run the calculator\u001b[39;00m\n\u001b[1;32m---> 61\u001b[0m calc \u001b[38;5;241m=\u001b[39m \u001b[43mEspresso\u001b[49m\u001b[43m(\u001b[49m\u001b[43mpseudopotentials\u001b[49m\u001b[38;5;241;43m=\u001b[39;49m\u001b[43mcalc_pseudopotentials\u001b[49m\u001b[43m,\u001b[49m\n\u001b[0;32m     62\u001b[0m \u001b[43m                \u001b[49m\u001b[43minput_data\u001b[49m\u001b[38;5;241;43m=\u001b[39;49m\u001b[43minput_settings\u001b[49m\u001b[43m,\u001b[49m\n\u001b[0;32m     63\u001b[0m \u001b[43m                \u001b[49m\u001b[43mkpts\u001b[49m\u001b[38;5;241;43m=\u001b[39;49m\u001b[43mkpts\u001b[49m\u001b[43m)\u001b[49m\n\u001b[0;32m     64\u001b[0m atoms\u001b[38;5;241m.\u001b[39mset_calculator(calc)\n\u001b[0;32m     66\u001b[0m \u001b[38;5;66;03m# THIS IS THE CRUCIAL INDENTATION FIX:\u001b[39;00m\n\u001b[0;32m     67\u001b[0m \u001b[38;5;66;03m# The try-except block needs to be inside the inner loop\u001b[39;00m\n\u001b[0;32m     68\u001b[0m \u001b[38;5;66;03m# so that a calculation is attempted for each crystal and each ecutwfc.\u001b[39;00m\n",
      "File \u001b[1;32mc:\\Users\\ameer\\miniforge3\\envs\\ase\\Lib\\site-packages\\ase\\calculators\\espresso.py:168\u001b[0m, in \u001b[0;36mEspresso.__init__\u001b[1;34m(self, profile, command, label, directory, **kwargs)\u001b[0m\n\u001b[0;32m    165\u001b[0m     warnings\u001b[38;5;241m.\u001b[39mwarn(compatibility_msg, \u001b[38;5;167;01mFutureWarning\u001b[39;00m)\n\u001b[0;32m    167\u001b[0m template \u001b[38;5;241m=\u001b[39m EspressoTemplate()\n\u001b[1;32m--> 168\u001b[0m \u001b[38;5;28;43msuper\u001b[39;49m\u001b[43m(\u001b[49m\u001b[43m)\u001b[49m\u001b[38;5;241;43m.\u001b[39;49m\u001b[38;5;21;43m__init__\u001b[39;49m\u001b[43m(\u001b[49m\n\u001b[0;32m    169\u001b[0m \u001b[43m    \u001b[49m\u001b[43mprofile\u001b[49m\u001b[38;5;241;43m=\u001b[39;49m\u001b[43mprofile\u001b[49m\u001b[43m,\u001b[49m\n\u001b[0;32m    170\u001b[0m \u001b[43m    \u001b[49m\u001b[43mtemplate\u001b[49m\u001b[38;5;241;43m=\u001b[39;49m\u001b[43mtemplate\u001b[49m\u001b[43m,\u001b[49m\n\u001b[0;32m    171\u001b[0m \u001b[43m    \u001b[49m\u001b[43mdirectory\u001b[49m\u001b[38;5;241;43m=\u001b[39;49m\u001b[43mdirectory\u001b[49m\u001b[43m,\u001b[49m\n\u001b[0;32m    172\u001b[0m \u001b[43m    \u001b[49m\u001b[43mparameters\u001b[49m\u001b[38;5;241;43m=\u001b[39;49m\u001b[43mkwargs\u001b[49m\u001b[43m,\u001b[49m\n\u001b[0;32m    173\u001b[0m \u001b[43m\u001b[49m\u001b[43m)\u001b[49m\n",
      "File \u001b[1;32mc:\\Users\\ameer\\miniforge3\\envs\\ase\\Lib\\site-packages\\ase\\calculators\\genericfileio.py:282\u001b[0m, in \u001b[0;36mGenericFileIOCalculator.__init__\u001b[1;34m(self, template, profile, directory, parameters)\u001b[0m\n\u001b[0;32m    280\u001b[0m \u001b[38;5;28;01mif\u001b[39;00m profile \u001b[38;5;129;01mis\u001b[39;00m \u001b[38;5;28;01mNone\u001b[39;00m:\n\u001b[0;32m    281\u001b[0m     \u001b[38;5;28;01mif\u001b[39;00m template\u001b[38;5;241m.\u001b[39mname \u001b[38;5;129;01mnot\u001b[39;00m \u001b[38;5;129;01min\u001b[39;00m \u001b[38;5;28mself\u001b[39m\u001b[38;5;241m.\u001b[39mcfg\u001b[38;5;241m.\u001b[39mparser:\n\u001b[1;32m--> 282\u001b[0m         \u001b[38;5;28;01mraise\u001b[39;00m BadConfiguration(\n\u001b[0;32m    283\u001b[0m             \u001b[38;5;124mf\u001b[39m\u001b[38;5;124m\"\u001b[39m\u001b[38;5;124mNo configuration of \u001b[39m\u001b[38;5;124m'\u001b[39m\u001b[38;5;132;01m{\u001b[39;00mtemplate\u001b[38;5;241m.\u001b[39mname\u001b[38;5;132;01m}\u001b[39;00m\u001b[38;5;124m'\u001b[39m\u001b[38;5;124m. \u001b[39m\u001b[38;5;124m\"\u001b[39m\n\u001b[0;32m    284\u001b[0m             \u001b[38;5;124mf\u001b[39m\u001b[38;5;124m\"\u001b[39m\u001b[38;5;124mSee \u001b[39m\u001b[38;5;124m'\u001b[39m\u001b[38;5;132;01m{\u001b[39;00mlink_calculator_docs\u001b[38;5;132;01m}\u001b[39;00m\u001b[38;5;124m'\u001b[39m\u001b[38;5;124m\"\u001b[39m\n\u001b[0;32m    285\u001b[0m         )\n\u001b[0;32m    286\u001b[0m     \u001b[38;5;28;01mtry\u001b[39;00m:\n\u001b[0;32m    287\u001b[0m         profile \u001b[38;5;241m=\u001b[39m template\u001b[38;5;241m.\u001b[39mload_profile(\u001b[38;5;28mself\u001b[39m\u001b[38;5;241m.\u001b[39mcfg)\n",
      "\u001b[1;31mBadConfiguration\u001b[0m: No configuration of 'espresso'. See 'https://wiki.fysik.dtu.dk/ase/ase/calculators/calculators.html#calculator-configuration'"
     ]
    }
   ],
   "source": [
    "from ase.io import read, write\n",
    "from ase.visualize import view\n",
    "from ase.calculators.espresso import Espresso\n",
    "import os\n",
    "\n",
    "#crystals = ['TiN', 'ZrN', 'NbN', 'ScN', 'VN']\n",
    "crystals = [ 'ZrN']\n",
    "pseudopotentials = {'Ti': 'ti_pbe_v1.4.uspp.F.UPF',\n",
    "                    'Zr': 'zr_pbe_v1.uspp.F.UPF',\n",
    "                    'Nb': 'Nb.pbe-spn-kjpaw_psl.0.3.0.UPF',\n",
    "                    'Sc': 'Sc_ONCV_PBE-1.0.oncvpsp.upf',\n",
    "                    'V': 'v_pbe_v1.4.uspp.F.UPF',\n",
    "                    'N': 'N.pbe-n-radius_5.UPF'}\n",
    "\n",
    "ecutwfc_values_ev = range(350, 551, 25)  # 350, 375, 400, ..., 550\n",
    "eV_to_Ry = 1.0 / 13.6057  # Conversion factor from eV to Ry\n",
    "\n",
    "# Dictionary to store energies for table printing\n",
    "energies_table = {ecut: {} for ecut in ecutwfc_values_ev}\n",
    "\n",
    "for crystal in crystals:\n",
    "    # Create an output directory for each crystal\n",
    "    output_dir = f'{crystal}_calculations'\n",
    "    os.makedirs(output_dir, exist_ok=True) # Creates directory if it doesn't exist\n",
    "\n",
    "    atoms = read(f'{crystal}.cif')\n",
    "\n",
    "    # Ensure all necessary pseudopotentials are in the dictionary for the calculator\n",
    "    calc_pseudopotentials = {}\n",
    "    for symbol in atoms.get_chemical_symbols():\n",
    "        if symbol not in pseudopotentials:\n",
    "            raise ValueError(f\"Pseudopotential for {symbol} not found in the 'pseudopotentials' dictionary.\")\n",
    "        calc_pseudopotentials[symbol] = pseudopotentials[symbol]\n",
    "\n",
    "    for ecutwfc_ev in ecutwfc_values_ev:\n",
    "        # Convert to Ry for each cutoff value\n",
    "        ecutwfc_ry = ecutwfc_ev * eV_to_Ry\n",
    "\n",
    "        input_settings = {\n",
    "            'control': {\n",
    "                'calculation': 'scf',\n",
    "                'prefix': crystal,\n",
    "                'outdir': output_dir, # Set the output directory for QE\n",
    "            },\n",
    "            'system': {\n",
    "                'ecutwfc': ecutwfc_ry,  # Wavefunction cutoff in Ry\n",
    "                'ecutrho': ecutwfc_ry * 8,  # Charge density cutoff\n",
    "                'occupations': 'smearing',\n",
    "                'smearing': 'gaussian',\n",
    "                'degauss': 0.01,\n",
    "            },\n",
    "            'electrons': {\n",
    "                'conv_thr': 1.0e-8, # Example: add an electronic convergence threshold\n",
    "            },\n",
    "        }\n",
    "\n",
    "        # Define k-points\n",
    "        kpts = (5, 5, 5)\n",
    "\n",
    "        # Initialize and run the calculator\n",
    "        calc = Espresso(pseudopotentials=calc_pseudopotentials,\n",
    "                        input_data=input_settings,\n",
    "                        kpts=kpts)\n",
    "        atoms.set_calculator(calc)\n",
    "\n",
    "        # THIS IS THE CRUCIAL INDENTATION FIX:\n",
    "        # The try-except block needs to be inside the inner loop\n",
    "        # so that a calculation is attempted for each crystal and each ecutwfc.\n",
    "        try:\n",
    "            energy = atoms.get_potential_energy()\n",
    "            energies_table[ecutwfc_ev][crystal] = energy\n",
    "            print(f\"Calculated {crystal} with ecutwfc: {ecutwfc_ev} eV, Energy: {energy:.4f} eV\")\n",
    "        except Exception as e:\n",
    "            energies_table[ecutwfc_ev][crystal] = \"Failed\"\n",
    "            print(f\"Calculation failed for {crystal} with ecutwfc: {ecutwfc_ev} eV. Error: {e}\")\n",
    "\n",
    "# --- Output results to a file ---\n",
    "output_filename = \"crystal_e.txt\"\n",
    "\n",
    "with open(output_filename, 'w') as f: # Open the file in write mode ('w')\n",
    "    f.write(\"\\n\" + \"=\"*80 + \"\\n\")\n",
    "    f.write(\"Final Results:\\n\")\n",
    "    f.write(\"=\"*80 + \"\\n\")\n",
    "\n",
    "    # Header\n",
    "    header = f\"{'ecutwfc (eV)':<15}\" + \"\".join([f\"{crystal:>15}\" for crystal in crystals])\n",
    "    f.write(header + \"\\n\") # Write header to file\n",
    "    f.write(\"-\" * len(header) + \"\\n\") # Write separator to file\n",
    "\n",
    "    # Data rows\n",
    "    for ecutwfc_ev in ecutwfc_values_ev:\n",
    "        row = f\"{ecutwfc_ev:<15}\"\n",
    "        for crystal in crystals:\n",
    "            energy = energies_table[ecutwfc_ev].get(crystal, \"N/A\")\n",
    "            if isinstance(energy, float):\n",
    "                row += f\"{energy:>15.4f}\"\n",
    "            else:\n",
    "                row += f\"{energy:>15}\"\n",
    "        f.write(row + \"\\n\") # Write each data row to file\n",
    "\n",
    "    f.write(\"=\"*80 + \"\\n\") # Write final separator to file\n",
    "\n",
    "print(f\"\\nResults saved to {output_filename}\") # Inform the user that the file has been created\n",
    "print(\"=\"*80)"
   ]
  },
  {
   "cell_type": "code",
   "execution_count": null,
   "id": "7ec95b6f",
   "metadata": {},
   "outputs": [],
   "source": []
  }
 ],
 "metadata": {
  "kernelspec": {
   "display_name": "ase",
   "language": "python",
   "name": "python3"
  },
  "language_info": {
   "codemirror_mode": {
    "name": "ipython",
    "version": 3
   },
   "file_extension": ".py",
   "mimetype": "text/x-python",
   "name": "python",
   "nbconvert_exporter": "python",
   "pygments_lexer": "ipython3",
   "version": "3.12.9"
  }
 },
 "nbformat": 4,
 "nbformat_minor": 5
}
